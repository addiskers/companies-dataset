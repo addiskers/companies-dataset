{
 "cells": [
  {
   "cell_type": "code",
   "execution_count": 8,
   "metadata": {},
   "outputs": [
    {
     "name": "stdout",
     "output_type": "stream",
     "text": [
      "Data scraping and saving completed!\n"
     ]
    }
   ],
   "source": [
    "import time\n",
    "import pandas as pd\n",
    "from selenium import webdriver\n",
    "from selenium.webdriver.edge.service import Service\n",
    "from selenium.webdriver.common.by import By\n",
    "from selenium.webdriver.support.ui import WebDriverWait\n",
    "from selenium.webdriver.support import expected_conditions as EC\n",
    "\n",
    "edge_driver_path = r\"C:\\Users\\admin\\Desktop\\SQ\\msedgedriver.exe\"\n",
    "\n",
    "service = Service(edge_driver_path)\n",
    "driver = webdriver.Edge(service=service)\n",
    "\n",
    "# Load the webpage\n",
    "url = 'https://www.boerse-frankfurt.de/equities/search'\n",
    "driver.get(url)\n",
    "\n",
    "data = []\n",
    "\n",
    "try:\n",
    "    for page in range(531):  \n",
    "        table = WebDriverWait(driver, 10).until(\n",
    "            EC.presence_of_element_located((By.CSS_SELECTOR, \"table.widget-table tbody\"))\n",
    "        )\n",
    "        \n",
    "        rows = table.find_elements(By.TAG_NAME, \"tr\")\n",
    "        \n",
    "        for row in rows:\n",
    "            columns = row.find_elements(By.TAG_NAME, \"td\")\n",
    "            \n",
    "            if len(columns) > 1:  \n",
    "                name = columns[0].text\n",
    "                symbol = columns[1].text\n",
    "                data.append([name, symbol])\n",
    "        \n",
    "        next_button = WebDriverWait(driver, 10).until(\n",
    "            EC.element_to_be_clickable((By.CSS_SELECTOR, f\"button[title='Show page {page+2}']\"))\n",
    "        )\n",
    "        next_button.click()\n",
    "        \n",
    "        time.sleep(3)\n",
    "\n",
    "finally:\n",
    "    driver.quit()\n",
    "\n",
    "df = pd.DataFrame(data, columns=[\"Company Name\", \"Symbol\"])\n",
    "\n",
    "df.to_excel(r\"C:\\Users\\admin\\Desktop\\SQ\\germany.xlsx\", index=False)\n",
    "\n",
    "print(\"Data scraping and saving completed!\")\n"
   ]
  }
 ],
 "metadata": {
  "kernelspec": {
   "display_name": "Python 3",
   "language": "python",
   "name": "python3"
  },
  "language_info": {
   "codemirror_mode": {
    "name": "ipython",
    "version": 3
   },
   "file_extension": ".py",
   "mimetype": "text/x-python",
   "name": "python",
   "nbconvert_exporter": "python",
   "pygments_lexer": "ipython3",
   "version": "3.12.2"
  }
 },
 "nbformat": 4,
 "nbformat_minor": 2
}
