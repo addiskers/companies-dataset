{
 "cells": [
  {
   "cell_type": "code",
   "execution_count": 7,
   "metadata": {},
   "outputs": [
    {
     "name": "stdout",
     "output_type": "stream",
     "text": [
      "Consolidation complete! File saved as 'company_name_consolidated.xlsx'.\n"
     ]
    }
   ],
   "source": [
    "import pandas as pd\n",
    "import glob\n",
    "\n",
    "# List of all file paths\n",
    "files = [\n",
    "    r\"C:\\Users\\admin\\Desktop\\SQ\\company name db\\Tokyo-Stock-Exchange.xlsx\",\n",
    "    r\"C:\\Users\\admin\\Desktop\\SQ\\company name db\\startup.xlsx\",\n",
    "    r\"C:\\Users\\admin\\Desktop\\SQ\\company name db\\nyse&nasdaq.xlsx\",\n",
    "    r\"C:\\Users\\admin\\Desktop\\SQ\\company name db\\NSE&BSE.xlsx\",\n",
    "    r\"C:\\Users\\admin\\Desktop\\SQ\\company name db\\london.xlsx\",\n",
    "    r\"C:\\Users\\admin\\Desktop\\SQ\\company name db\\Korea-Stock-Exchange.xlsx\",\n",
    "    r\"C:\\Users\\admin\\Desktop\\SQ\\company name db\\hkex hongkong.xlsx\",\n",
    "    r\"C:\\Users\\admin\\Desktop\\SQ\\company name db\\germany.xlsx\",\n",
    "    r\"C:\\Users\\admin\\Desktop\\SQ\\company name db\\euro.xlsx\",\n",
    "    r\"C:\\Users\\admin\\Desktop\\SQ\\company name db\\CHINA SSE.xlsx\",\n",
    "    r\"C:\\Users\\admin\\Desktop\\SQ\\company name db\\canada-heck.xlsx\",\n",
    "    r\"C:\\Users\\admin\\Desktop\\SQ\\company name db\\Brazil-Stock-Exchange.xlsx\",\n",
    "    r\"C:\\Users\\admin\\Desktop\\SQ\\company name db\\Australia-ASX-Stock-Exchange.xlsx\"\n",
    "]\n",
    "\n",
    "df_list = []\n",
    "\n",
    "for file in files:\n",
    "    df = pd.read_excel(file)\n",
    "    \n",
    "    if 'Country' not in df.columns:\n",
    "        df['Country'] = pd.NA \n",
    "    \n",
    "    df_list.append(df)\n",
    "\n",
    "final_df = pd.concat(df_list, ignore_index=True)\n",
    "\n",
    "final_df.to_excel(r'C:\\Users\\admin\\Desktop\\SQ\\company name db\\company_name_consolidated.xlsx', index=False)\n",
    "\n",
    "print(\"Consolidation complete! File saved as 'company_name_consolidated.xlsx'.\")\n"
   ]
  },
  {
   "cell_type": "code",
   "execution_count": 8,
   "metadata": {},
   "outputs": [
    {
     "name": "stdout",
     "output_type": "stream",
     "text": [
      "Matching complete! File saved as matched_companies.xlsx.\n"
     ]
    }
   ],
   "source": [
    "import pandas as pd\n",
    "from rapidfuzz import fuzz, process\n",
    "\n",
    "data = pd.read_excel(r'C:\\Users\\admin\\Desktop\\SQ\\company_name_consolidated.xlsx')\n",
    "\n",
    "matched_companies = []\n",
    "\n",
    "for i in range(len(data)):\n",
    "    company1 = data.loc[i, 'Company Name']\n",
    "    \n",
    "    for j in range(i+1, len(data)):\n",
    "        company2 = data.loc[j, 'Company Name']\n",
    "        \n",
    "        similarity = fuzz.ratio(company1, company2)\n",
    "        \n",
    "        if similarity >= 85:\n",
    "            matched_companies.append({\n",
    "                'Company 1 Name': company1,\n",
    "                'Company 1 Symbol': data.loc[i, 'Symbol'],\n",
    "                'Company 1 Industry': data.loc[i, 'Industry'],\n",
    "                'Company 1 Exchange': data.loc[i, 'Exchange'],\n",
    "                'Company 1 Country': data.loc[i, 'Country'],\n",
    "                'Company 2 Name': company2,\n",
    "                'Company 2 Symbol': data.loc[j, 'Symbol'],\n",
    "                'Company 2 Industry': data.loc[j, 'Industry'],\n",
    "                'Company 2 Exchange': data.loc[j, 'Exchange'],\n",
    "                'Company 2 Country': data.loc[j, 'Country'],\n",
    "                'Matching Percentage': similarity\n",
    "            })\n",
    "\n",
    "matched_df = pd.DataFrame(matched_companies)\n",
    "\n",
    "matched_df.to_excel(r'C:\\Users\\admin\\Desktop\\SQ\\matched_companies.xlsx', index=False)\n",
    "\n",
    "print('Matching complete! File saved as matched_companies.xlsx.')\n"
   ]
  }
 ],
 "metadata": {
  "kernelspec": {
   "display_name": "Python 3",
   "language": "python",
   "name": "python3"
  },
  "language_info": {
   "codemirror_mode": {
    "name": "ipython",
    "version": 3
   },
   "file_extension": ".py",
   "mimetype": "text/x-python",
   "name": "python",
   "nbconvert_exporter": "python",
   "pygments_lexer": "ipython3",
   "version": "3.12.2"
  }
 },
 "nbformat": 4,
 "nbformat_minor": 2
}
